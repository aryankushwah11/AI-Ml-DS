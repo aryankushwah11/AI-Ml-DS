{
 "cells": [
  {
   "cell_type": "code",
   "execution_count": null,
   "id": "a4ae6273",
   "metadata": {},
   "outputs": [
    {
     "name": "stdout",
     "output_type": "stream",
     "text": [
      "71\n"
     ]
    }
   ],
   "source": [
    "a=5\n",
    "b=66\n",
    "print(a+b)"
   ]
  },
  {
   "cell_type": "code",
   "execution_count": null,
   "id": "b35e72f7",
   "metadata": {},
   "outputs": [
    {
     "name": "stdout",
     "output_type": "stream",
     "text": [
      "0\n",
      "1\n",
      "2\n",
      "3\n",
      "4\n"
     ]
    }
   ],
   "source": [
    "for i in range(5):\n",
    "    print(i)"
   ]
  },
  {
   "cell_type": "code",
   "execution_count": null,
   "id": "912c7372",
   "metadata": {},
   "outputs": [
    {
     "ename": "ValueError",
     "evalue": "invalid literal for int() with base 10: '`5'",
     "output_type": "error",
     "traceback": [
      "\u001b[1;31m---------------------------------------------------------------------------\u001b[0m",
      "\u001b[1;31mValueError\u001b[0m                                Traceback (most recent call last)",
      "Cell \u001b[1;32mIn[25], line 1\u001b[0m\n\u001b[1;32m----> 1\u001b[0m n\u001b[38;5;241m=\u001b[39m\u001b[38;5;28mint\u001b[39m(\u001b[38;5;28minput\u001b[39m(\u001b[38;5;124m\"\u001b[39m\u001b[38;5;124menter a number\u001b[39m\u001b[38;5;124m\"\u001b[39m))\n\u001b[0;32m      2\u001b[0m \u001b[38;5;28;01mfor\u001b[39;00m i \u001b[38;5;129;01min\u001b[39;00m \u001b[38;5;28mrange\u001b[39m(n):\n\u001b[0;32m      3\u001b[0m     \u001b[38;5;28mprint\u001b[39m(i)\n",
      "\u001b[1;31mValueError\u001b[0m: invalid literal for int() with base 10: '`5'"
     ]
    }
   ],
   "source": [
    "n=int(input(\"enter a number\"))\n",
    "for i in range(n):\n",
    "    print(i)"
   ]
  },
  {
   "cell_type": "code",
   "execution_count": null,
   "id": "4de0ff90",
   "metadata": {},
   "outputs": [],
   "source": [
    "a=int(input(\"firstnumber\"))"
   ]
  },
  {
   "cell_type": "code",
   "execution_count": null,
   "id": "b0defeaa",
   "metadata": {},
   "outputs": [
    {
     "name": "stdout",
     "output_type": "stream",
     "text": [
      "sum of digits: 9\n"
     ]
    }
   ],
   "source": [
    "#WAP TO PRINT SUM OF DIGIT OF A NUMBER\n",
    "n=int(input(\"enter a number\"))\n",
    "sum=0\n",
    "temp=n\n",
    "while temp>0:\n",
    "    sum=sum+temp%10\n",
    "    temp=temp//10\n",
    "\n",
    "print(\"sum of digits:\",sum)"
   ]
  },
  {
   "cell_type": "code",
   "execution_count": null,
   "id": "fb0af3e9",
   "metadata": {},
   "outputs": [
    {
     "name": "stdout",
     "output_type": "stream",
     "text": [
      "fectorial is: 120\n"
     ]
    }
   ],
   "source": [
    "#wap to print factorial of a number\n",
    "n=int(input(\"enter a number\"))\n",
    "fact=1\n",
    "for i in range(1,n+1):\n",
    "    fact=fact*i\n",
    "print(\"factorial is:\",fact)\n"
   ]
  },
  {
   "cell_type": "code",
   "execution_count": null,
   "id": "bd63a78f",
   "metadata": {},
   "outputs": [
    {
     "name": "stdout",
     "output_type": "stream",
     "text": [
      "palindrome\n"
     ]
    }
   ],
   "source": [
    "#wap to check string is palindrome or not\n",
    "s=input(\"enter a string\")\n",
    "if s==s[::-1]:\n",
    "    print(\"palindrome\")\n",
    "else:\n",
    "    print(\"not palindrome\")"
   ]
  },
  {
   "cell_type": "code",
   "execution_count": null,
   "id": "26f1eeff",
   "metadata": {},
   "outputs": [
    {
     "name": "stdout",
     "output_type": "stream",
     "text": [
      "5 * 1 = 5\n",
      "5 * 2 = 10\n",
      "5 * 3 = 15\n",
      "5 * 4 = 20\n",
      "5 * 5 = 25\n",
      "5 * 6 = 30\n",
      "5 * 7 = 35\n",
      "5 * 8 = 40\n",
      "5 * 9 = 45\n",
      "5 * 10 = 50\n"
     ]
    }
   ],
   "source": [
    "#wap to print multiplication table of a number\n",
    "n=int(input(\"enter a number\"))\n",
    "for i in range(1,11):\n",
    "    print(n,\"*\",i,\"=\",n*i)"
   ]
  },
  {
   "cell_type": "code",
   "execution_count": null,
   "id": "544eb145",
   "metadata": {},
   "outputs": [
    {
     "name": "stdout",
     "output_type": "stream",
     "text": [
      "number of words: 1\n"
     ]
    }
   ],
   "source": [
    "#wap to count words in a given string\n",
    "s=input(\"enter a string\")\n",
    "words=s.split()\n",
    "print(\"number of words:\",len(words))"
   ]
  },
  {
   "cell_type": "code",
   "execution_count": null,
   "id": "09f0d8ca",
   "metadata": {},
   "outputs": [],
   "source": [
    "#wap to find if given number is armstrong or not\n",
    "n=int(input(\"enter a number\"))\n",
    "sum=0\n",
    "temp=n\n",
    "while temp>0:\n",
    "    digit=temp%10\n",
    "    sum+=digit**3\n",
    "    temp//=10\n",
    "if sum==n:\n",
    "    print(\"armstrong\")\n",
    "else:\n",
    "    print(\"not armstrong\")"
   ]
  },
  {
   "cell_type": "code",
   "execution_count": null,
   "id": "878aa853",
   "metadata": {},
   "outputs": [
    {
     "name": "stdout",
     "output_type": "stream",
     "text": [
      "heyy i am jarvis\n"
     ]
    }
   ],
   "source": [
    "def yooo():\n",
    "    print(\"heyy i am jarvis\")\n",
    "\n",
    "yooo()"
   ]
  },
  {
   "cell_type": "code",
   "execution_count": null,
   "id": "2fc4d698",
   "metadata": {},
   "outputs": [
    {
     "name": "stdout",
     "output_type": "stream",
     "text": [
      "7\n"
     ]
    }
   ],
   "source": [
    "#wap to define function\n",
    "def sum(a,b):\n",
    "    print(a+b)\n",
    "x=int(input(\"enter first number\"))\n",
    "y=int(input(\"enter second number\"))\n",
    "sum(x,y)"
   ]
  },
  {
   "cell_type": "code",
   "execution_count": null,
   "id": "4e3f386a",
   "metadata": {},
   "outputs": [
    {
     "name": "stdout",
     "output_type": "stream",
     "text": [
      "101"
     ]
    }
   ],
   "source": [
    "#wap to funtion to convert decimal to binary\n",
    "def decimal2binnary(n):\n",
    "    if n>1:\n",
    "        decimal2binnary(n//2)\n",
    "    print(n%2,end=\"\")\n",
    "num=int(input(\"enter a number\"))\n",
    "decimal2binnary(num)\n",
    "\n",
    "    "
   ]
  },
  {
   "cell_type": "code",
   "execution_count": null,
   "id": "c0256c20",
   "metadata": {},
   "outputs": [
    {
     "name": "stdout",
     "output_type": "stream",
     "text": [
      "[1 2 3 4 5]\n",
      "<class 'numpy.ndarray'>\n"
     ]
    }
   ],
   "source": [
    "#numpy array\n",
    "import numpy as np\n",
    "arr=np.array([1,2,3,4,5])\n",
    "print(arr)\n",
    "print(type(arr))"
   ]
  },
  {
   "cell_type": "code",
   "execution_count": null,
   "id": "b11c512e",
   "metadata": {},
   "outputs": [
    {
     "name": "stdout",
     "output_type": "stream",
     "text": [
      "[ 2  4  6  8 10 12]\n"
     ]
    }
   ],
   "source": [
    "#use tuple to create numpy array\n",
    "array=np.array((2,4,6,8,10,12))\n",
    "print(array)"
   ]
  },
  {
   "cell_type": "code",
   "execution_count": null,
   "id": "ec8ab5f9",
   "metadata": {},
   "outputs": [],
   "source": [
    "#create a list ,with temperature vlaues\n",
    "cvalues=[20.76,1.5,20.8,21.9,22.5,22.7,22.3,21.8,21.2,20.6,20.1]"
   ]
  },
  {
   "cell_type": "code",
   "execution_count": null,
   "id": "c1e04584",
   "metadata": {},
   "outputs": [
    {
     "name": "stdout",
     "output_type": "stream",
     "text": [
      "[20.76  1.5  20.8  21.9  22.5  22.7  22.3  21.8  21.2  20.6  20.1 ]\n"
     ]
    }
   ],
   "source": [
    "#convert values into 1D array\n",
    "c=np.array(cvalues)\n",
    "print(c)"
   ]
  },
  {
   "cell_type": "markdown",
   "id": "8f8f9552",
   "metadata": {},
   "source": [
    "#IMPORT NUMPY"
   ]
  },
  {
   "cell_type": "code",
   "execution_count": null,
   "id": "6b6641ae",
   "metadata": {},
   "outputs": [
    {
     "name": "stdout",
     "output_type": "stream",
     "text": [
      "[[1. 2. 3.]\n",
      " [4. 5. 6.]\n",
      " [7. 8. 9.]]\n",
      "2\n",
      "(3, 3)\n",
      "8\n"
     ]
    }
   ],
   "source": [
    "array1=np.array([[1,2,3],[4,5,6],[7,8,9]],dtype=float)\n",
    "print(array1)\n",
    "print(array1.ndim)\n",
    "print(array1.shape) \n",
    "print(array1.itemsize)"
   ]
  },
  {
   "cell_type": "code",
   "execution_count": null,
   "id": "a69f7760",
   "metadata": {},
   "outputs": [
    {
     "name": "stdout",
     "output_type": "stream",
     "text": [
      "2.1.3\n"
     ]
    }
   ],
   "source": [
    "import numpy as np\n",
    "print(np.__version__)"
   ]
  },
  {
   "cell_type": "code",
   "execution_count": null,
   "id": "fd7b7b87",
   "metadata": {},
   "outputs": [
    {
     "name": "stdout",
     "output_type": "stream",
     "text": [
      "[[[ 1  2  3]\n",
      "  [ 4  5  6]]\n",
      "\n",
      " [[ 7  8  9]\n",
      "  [10 11 12]]]\n",
      "3\n",
      "(2, 2, 3)\n",
      "8\n",
      "12\n"
     ]
    }
   ],
   "source": [
    "#creating 3d array using numpy function\n",
    "import numpy as np\n",
    "threeD=np.array([[[1,2,3],[4,5,6]],[[7,8,9],[10,11,12]]])\n",
    "print(threeD)\n",
    "print(threeD.ndim)\n",
    "print(threeD.shape)\n",
    "print(threeD.itemsize)\n",
    "print(threeD.size)\n",
    "\n"
   ]
  },
  {
   "cell_type": "code",
   "execution_count": 6,
   "id": "7de25e5c",
   "metadata": {},
   "outputs": [
    {
     "name": "stdout",
     "output_type": "stream",
     "text": [
      "    Name  degree  store       city\n",
      "0  Aryan  B.Tech     50      Delhi\n",
      "1   John  M.Tech     60     Mumbai\n",
      "2  Alice     PhD     70  Bangalore\n",
      "3    Bob     BSc     80  Hyderabad\n"
     ]
    }
   ],
   "source": [
    "#to create a data frame usning pandas library that stores basic student details\n",
    "import pandas as pd\n",
    "data={'Name':['Aryan','John','Alice','Bob'],\n",
    "      'degree':['B.Tech','M.Tech','PhD','BSc'],\n",
    "      'store':[50, 60, 70, 80],\n",
    "      'city':['Delhi','Mumbai','Bangalore','Hyderabad']}\n",
    "#convert dictionary to data frame\n",
    "studentdata=pd.DataFrame(data)\n",
    "print(studentdata)"
   ]
  },
  {
   "cell_type": "markdown",
   "id": "484e9415",
   "metadata": {},
   "source": [
    "WORKING WITH IRIS DATASET\n"
   ]
  },
  {
   "cell_type": "code",
   "execution_count": null,
   "id": "e1a1b59e",
   "metadata": {},
   "outputs": [],
   "source": []
  }
 ],
 "metadata": {
  "kernelspec": {
   "display_name": "Python 3",
   "language": "python",
   "name": "python3"
  },
  "language_info": {
   "codemirror_mode": {
    "name": "ipython",
    "version": 3
   },
   "file_extension": ".py",
   "mimetype": "text/x-python",
   "name": "python",
   "nbconvert_exporter": "python",
   "pygments_lexer": "ipython3",
   "version": "3.11.9"
  }
 },
 "nbformat": 4,
 "nbformat_minor": 5
}
